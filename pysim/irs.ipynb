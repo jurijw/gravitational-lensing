{
 "cells": [
  {
   "cell_type": "code",
   "execution_count": 66,
   "metadata": {},
   "outputs": [],
   "source": [
    "import numpy as np\n",
    "import matplotlib.pyplot as plt\n",
    "from scipy import ndimage\n",
    "\n",
    "np.random.seed = 42"
   ]
  },
  {
   "cell_type": "code",
   "execution_count": 67,
   "outputs": [],
   "source": [
    "G = 1  # Gravitational constant\n",
    "c = 1  # Speed of light"
   ],
   "metadata": {
    "collapsed": false,
    "pycharm": {
     "name": "#%%\n"
    }
   }
  },
  {
   "cell_type": "code",
   "execution_count": 100,
   "metadata": {},
   "outputs": [
    {
     "name": "stdout",
     "output_type": "stream",
     "text": [
      "[[ 0.98632792  0.99562943]\n",
      " [-0.62676788  0.95025864]\n",
      " [ 0.99473743 -0.23814329]\n",
      " [ 0.02964157  0.67260565]\n",
      " [-0.19734444  0.22243184]\n",
      " [ 0.7270121  -0.51703129]\n",
      " [ 0.11370547 -0.61244394]\n",
      " [-0.56022177  0.42642145]\n",
      " [ 0.86968663  0.47509202]\n",
      " [ 0.46486725  0.38509581]]\n",
      "[0.28016443 0.27599163]\n"
     ]
    },
    {
     "data": {
      "text/plain": "<matplotlib.collections.PathCollection at 0x157c13ca0>"
     },
     "execution_count": 100,
     "metadata": {},
     "output_type": "execute_result"
    },
    {
     "data": {
      "text/plain": "<Figure size 432x288 with 1 Axes>",
      "image/png": "[encoded data removed]"
     },
     "metadata": {
      "needs_background": "light"
     },
     "output_type": "display_data"
    }
   ],
   "source": [
    "# Randomly distribute microlenses\n",
    "N = 10\n",
    "x = np.random.uniform(low=-1, high=1, size=N)\n",
    "y = np.random.uniform(low=-1, high=1, size=N)\n",
    "\n",
    "X = np.stack((x, y), axis=1)  # Lens positions\n",
    "M = np.ones(N)  # Lens Masses\n",
    "\n",
    "print(X)\n",
    "CoM = np.average(X, axis=0, weights=M)\n",
    "\n",
    "# ndimage.center_of_mass(X)  # Determine the center of mass of the distribution.\n",
    "print(CoM)\n",
    "\n",
    "plt.scatter(x, y)\n",
    "plt.scatter(*CoM)"
   ]
  },
  {
   "cell_type": "code",
   "execution_count": 70,
   "outputs": [
    {
     "data": {
      "text/plain": "(1, 2)"
     },
     "execution_count": 70,
     "metadata": {},
     "output_type": "execute_result"
    }
   ],
   "source": [
    "X[:, 1].shape"
   ],
   "metadata": {
    "collapsed": false,
    "pycharm": {
     "name": "#%%\n"
    }
   }
  },
  {
   "cell_type": "code",
   "execution_count": 63,
   "metadata": {
    "pycharm": {
     "name": "#%%\n"
    }
   },
   "outputs": [],
   "source": [
    "def deflection_angle_point_masses(X, M):\n",
    "    return 0"
   ]
  },
  {
   "cell_type": "code",
   "execution_count": null,
   "outputs": [],
   "source": [
    "def center_of_mass(X, M):\n"
   ],
   "metadata": {
    "collapsed": false,
    "pycharm": {
     "name": "#%%\n"
    }
   }
  },
  {
   "cell_type": "code",
   "execution_count": 97,
   "outputs": [],
   "source": [
    "x = np.array((0, 2))\n",
    "y = np.array((1, 3))\n",
    "X = np.stack((x, y), axis=1)\n",
    "M = np.array((1, 2))"
   ],
   "metadata": {
    "collapsed": false,
    "pycharm": {
     "name": "#%%\n"
    }
   }
  },
  {
   "cell_type": "code",
   "execution_count": 98,
   "outputs": [
    {
     "name": "stdout",
     "output_type": "stream",
     "text": [
      "[[0 1]\n",
      " [2 3]]\n",
      "[1 2]\n",
      "[1.33333333 2.33333333]\n"
     ]
    }
   ],
   "source": [
    "print(X)\n",
    "print(M)\n",
    "print(np.average(X, axis=0, weights=M))"
   ],
   "metadata": {
    "collapsed": false,
    "pycharm": {
     "name": "#%%\n"
    }
   }
  },
  {
   "cell_type": "code",
   "execution_count": null,
   "outputs": [],
   "source": [],
   "metadata": {
    "collapsed": false,
    "pycharm": {
     "name": "#%%\n"
    }
   }
  }
 ],
 "metadata": {
  "kernelspec": {
   "display_name": "Python 3 (ipykernel)",
   "language": "python",
   "name": "python3"
  },
  "language_info": {
   "codemirror_mode": {
    "name": "ipython",
    "version": 3
   },
   "file_extension": ".py",
   "mimetype": "text/x-python",
   "name": "python",
   "nbconvert_exporter": "python",
   "pygments_lexer": "ipython3",
   "version": "3.9.12"
  }
 },
 "nbformat": 4,
 "nbformat_minor": 1
}