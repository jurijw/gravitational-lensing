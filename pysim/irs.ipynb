{
 "cells": [
  {
   "cell_type": "code",
   "execution_count": 66,
   "metadata": {},
   "outputs": [],
   "source": [
    "import numpy as np\n",
    "import matplotlib.pyplot as plt\n",
    "from scipy import ndimage\n",
    "\n",
    "np.random.seed = 42"
   ]
  },
  {
   "cell_type": "code",
   "execution_count": 67,
   "outputs": [],
   "source": [
    "G = 1  # Gravitational constant\n",
    "c = 1  # Speed of light"
   ],
   "metadata": {
    "collapsed": false,
    "pycharm": {
     "name": "#%%\n"
    }
   }
  },
  {
   "cell_type": "code",
   "execution_count": 78,
   "metadata": {},
   "outputs": [
    {
     "name": "stdout",
     "output_type": "stream",
     "text": [
      "[[[ 0.64133374 -0.34500638]\n",
      "  [ 0.71250983  0.86260517]\n",
      "  [-0.15206319 -0.63305693]\n",
      "  [ 0.61660181  0.88359865]\n",
      "  [-0.42302468  0.80095763]\n",
      "  [ 0.38297622  0.26445771]\n",
      "  [ 0.43247508 -0.3637046 ]\n",
      "  [ 0.23886631  0.92251258]\n",
      "  [ 0.67769568 -0.68920153]\n",
      "  [-0.32105268 -0.73669268]]]\n",
      "(2.169456154121619, 0.25616856588647974)\n"
     ]
    },
    {
     "data": {
      "text/plain": "<matplotlib.collections.PathCollection at 0x1564646a0>"
     },
     "execution_count": 78,
     "metadata": {},
     "output_type": "execute_result"
    },
    {
     "data": {
      "text/plain": "<Figure size 432x288 with 1 Axes>",
      "image/png": "[encoded data removed]"
     },
     "metadata": {
      "needs_background": "light"
     },
     "output_type": "display_data"
    }
   ],
   "source": [
    "# Randomly distribute microlenses\n",
    "N = 10\n",
    "x = np.random.uniform(low=-1, high=1, size=N)\n",
    "y = np.random.uniform(low=-1, high=1, size=N)\n",
    "\n",
    "X = np.dstack((x, y))  # Lens positions\n",
    "M = np.ones(N)  # Lens Masses\n",
    "\n",
    "print(X)\n",
    "CoM = ndimage.center_of_mass(X[0])  # Determine the center of mass of the distribution.\n",
    "print(CoM)\n",
    "\n",
    "plt.scatter(x, y)\n",
    "plt.scatter(*CoM)"
   ]
  },
  {
   "cell_type": "code",
   "execution_count": 70,
   "outputs": [
    {
     "data": {
      "text/plain": "(1, 2)"
     },
     "execution_count": 70,
     "metadata": {},
     "output_type": "execute_result"
    }
   ],
   "source": [
    "X[:, 1].shape"
   ],
   "metadata": {
    "collapsed": false,
    "pycharm": {
     "name": "#%%\n"
    }
   }
  },
  {
   "cell_type": "code",
   "execution_count": 63,
   "metadata": {
    "pycharm": {
     "name": "#%%\n"
    }
   },
   "outputs": [],
   "source": [
    "def deflection_angle_point_masses(X, M):\n",
    "    return 0"
   ]
  }
 ],
 "metadata": {
  "kernelspec": {
   "display_name": "Python 3 (ipykernel)",
   "language": "python",
   "name": "python3"
  },
  "language_info": {
   "codemirror_mode": {
    "name": "ipython",
    "version": 3
   },
   "file_extension": ".py",
   "mimetype": "text/x-python",
   "name": "python",
   "nbconvert_exporter": "python",
   "pygments_lexer": "ipython3",
   "version": "3.9.12"
  }
 },
 "nbformat": 4,
 "nbformat_minor": 1
}